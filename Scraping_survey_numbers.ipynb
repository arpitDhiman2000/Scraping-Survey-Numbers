{
 "cells": [
  {
   "attachments": {},
   "cell_type": "markdown",
   "metadata": {},
   "source": [
    "# Importing Libraries"
   ]
  },
  {
   "cell_type": "code",
   "execution_count": 55,
   "metadata": {},
   "outputs": [],
   "source": [
    "from selenium import webdriver\n",
    "from selenium.webdriver.support.ui import Select\n",
    "from selenium.webdriver.common.by import By\n",
    "from selenium.webdriver.chrome.options import Options\n",
    "import time\n",
    "import json\n",
    "from tqdm import tqdm"
   ]
  },
  {
   "attachments": {},
   "cell_type": "markdown",
   "metadata": {},
   "source": [
    "### There are two codes below:\n",
    "#### 1. Recursive approach for scrapping all the data regarding survey numbers related to every district, mandal, and village.\n",
    "#### 2. The basic approach is to get the list of first district, mandal, and village survey numbers."
   ]
  },
  {
   "attachments": {},
   "cell_type": "markdown",
   "metadata": {},
   "source": [
    "------------------------------------------------------------------------------------------"
   ]
  },
  {
   "attachments": {},
   "cell_type": "markdown",
   "metadata": {},
   "source": [
    "## 1. Recursive approach\n",
    "\n",
    "##### In this approach, background work is hidden and it takes time to complete because it gathers all the survey numbers related to every district, mandal, and village. After that, it converts the data to the JSON file and saves it.\n",
    "\n",
    "##### Note: To see the working example please run the basic approach"
   ]
  },
  {
   "cell_type": "code",
   "execution_count": null,
   "metadata": {},
   "outputs": [],
   "source": [
    "chrome_options = Options()\n",
    "chrome_options.add_argument(\"--headless\")\n",
    "\n",
    "driver  = webdriver.Chrome(options=chrome_options)\n",
    "\n",
    "driver.get('https://dharani.telangana.gov.in/knowLandStatus')\n",
    "\n",
    "select_elements = driver.find_elements(By.TAG_NAME, \"select\")"
   ]
  },
  {
   "cell_type": "code",
   "execution_count": null,
   "metadata": {},
   "outputs": [],
   "source": [
    "def scrap_recursively(select_elements, current_index=0, selected_options=None):\n",
    "    if selected_options is None:\n",
    "        selected_options = {}\n",
    "\n",
    "    if current_index >= len(select_elements):\n",
    "        return survey_list\n",
    "\n",
    "    dropdown = Select(select_elements[current_index])\n",
    "    time.sleep(2)\n",
    "    \n",
    "    for index, desired_option in enumerate(dropdown.options):\n",
    "        if desired_option.text == 'Please Select':\n",
    "            continue\n",
    "        \n",
    "        selected_options[current_index] = desired_option.text\n",
    "        dropdown.select_by_index(index)\n",
    "        \n",
    "\n",
    "        if current_index == len(select_elements) - 2:\n",
    "            survey_dict = {}\n",
    "            survey_dict['district'] = selected_options[0]\n",
    "            survey_dict['mandal'] = selected_options[1]\n",
    "            survey_dict['vilage'] = selected_options[2]\n",
    "\n",
    "            survey_no = []\n",
    "            dropdown_survey_no = Select(select_elements[3])\n",
    "            time.sleep(2)\n",
    "\n",
    "            for option in tqdm(dropdown_survey_no.options):\n",
    "                if option.text != 'Please select':\n",
    "                    survey_no.append(option.text)\n",
    "\n",
    "            survey_dict['survey_numbers'] = survey_no\n",
    "\n",
    "            survey_list.append(survey_dict)\n",
    "\n",
    "        else:\n",
    "            scrap_recursively(select_elements, current_index + 1, selected_options.copy())\n",
    "        \n",
    "        time.sleep(2)\n",
    "\n",
    "\n",
    "\n",
    "survey_list = []\n",
    "\n",
    "try:\n",
    "    scrap_recursively(select_elements[:4])\n",
    "    driver.quit()\n",
    "\n",
    "except Exception as e:\n",
    "    print(\"An error occurred:\", e)\n"
   ]
  },
  {
   "cell_type": "code",
   "execution_count": null,
   "metadata": {},
   "outputs": [],
   "source": [
    "with open(\"sample.json\", \"w\") as outfile:\n",
    "    json.dump(survey_list, outfile)"
   ]
  },
  {
   "cell_type": "code",
   "execution_count": null,
   "metadata": {},
   "outputs": [],
   "source": [
    "with open('sample.json', 'r') as openfile:\n",
    " \n",
    "    # Reading from json file\n",
    "    json_object = json.load(openfile)\n",
    " \n",
    "print(json_object)\n",
    "print(type(json_object))"
   ]
  },
  {
   "attachments": {},
   "cell_type": "markdown",
   "metadata": {},
   "source": [
    "## 2. Basic approach\n",
    "\n",
    "##### This approach is to see the working and get the first output of the survey numbers regarding to first district, mandal, and village."
   ]
  },
  {
   "cell_type": "code",
   "execution_count": 60,
   "metadata": {},
   "outputs": [],
   "source": [
    "driver  = webdriver.Chrome()\n",
    "\n",
    "driver.get('https://dharani.telangana.gov.in/knowLandStatus')\n",
    "\n",
    "select_elements = driver.find_elements(By.TAG_NAME, \"select\")"
   ]
  },
  {
   "cell_type": "code",
   "execution_count": 61,
   "metadata": {},
   "outputs": [
    {
     "name": "stderr",
     "output_type": "stream",
     "text": [
      "100%|██████████| 338/338 [00:19<00:00, 17.53it/s]\n"
     ]
    },
    {
     "name": "stdout",
     "output_type": "stream",
     "text": [
      "[{'district': 'Adilabad|ఆదిలాబాద్', 'mandal': 'Adilabad (Rural)|ఆదిలాబాద్ (రూరల్)', 'vilage': 'Ankapoor|అంకాపూర్', 'survey_numbers': ['2/1', '2/2', '2/A/1', '2/B', '2/B/1', '2/B/A', '3/A', '3/A/1', '3/A/4', '3/A/5', '3/A/6', '3/A/7', '3/B', '4/1', '4/2/1', '4/2/2', '4/3/1', '4/3/2', '4/4', '5/1', '5/2', '5/3', '5/4', '5/5', '5/6', '5/7', '5/అ/1', '6', '6/1', '7/A', '7/B/1', '7/B/1/1', '7/B/1/2', '7/B/2', '7/C', '7/D/1/1', '7/D/1/2', '7/D/1/3', '7/D/2/1', '7/D/2/2', '7/D/2/3', '7/E', '7/E/1', '8', '8/1', '9/A/1', '9/A/2', '9/A/3/1', '9/A/3/2', '9/A/3/3', '9/A/3/4', '9/B/1/1', '9/B/1/2', '9/B/1/3', '9/B/2/1', '9/B/2/2', '9/B/2/3', '10/1', '10/2', '11/A/1', '11/A/2', '11/A/3', '11/A/4', '12/1', '12/2', '12/3', '13/2/1', '13/2/2', '13/3', '14', '14/1', '15/1/2', '15/1/3', '15/2/1', '15/2/2', '15/2/3', '15/2/4/అ', '15/2/4/ఆ', '16/1', '16/2', '16/3', '16/4', '16/5', '16/6', '17/1', '17/10/2', '17/11', '17/11/1/అ', '17/11/1/ఆ', '17/11/1/ఇ', '17/12', '17/1/2', '17/13', '17/14/1', '17/14/1/1', '17/14/1/2', '17/14/1/3', '17/14/1/4', '17/14/2', '17/15', '17/15/2', '17/16/1/1', '17/16/1/2', '17/16/2', '17/17/1', '17/18', '17/19', '17/3/అ', '17/3/ఆ', '17/3/ఇ', '17/5', '17/6/1', '17/6/2', '17/6/2/1', '17/7', '17/7/1', '17/8', '17/8/1', '17/8/2', '17/8/3', '17/8/4', '17/9/1', '17/9/2', '17/9/3', '19', '19/1', '20/1', '20/10', '20/11', '20/12', '20/13', '20/14', '20/15', '20/2', '20/3/1', '20/3/2', '20/4', '20/5', '20/6', '20/7', '20/8', '20/9', '20/A', '21/1', '21/2', '21/3', '21/4', '22/1', '22/10', '22/10/1', '22/11', '22/11/1', '22/12', '22/13', '22/2', '22/3', '22/4', '22/5', '22/6', '22/8', '22/9', '23/2', '23/3', '23/4', '23/5', '24/1/1', '24/1/2', '24/1/3', '24/2/1/1', '24/2/1/2', '24/2/2', '24/3/2', '25/B/1/అ', '25/B/1/ఆ', '25/B/1/ఇ', '25/B/2', '25/C', '25/D', '25/E', '25/F', '25/G', '25/H', '25/I/1', '25/J', '26/A/1', '26/A2', '26/A/2', '26/A/3', '26/B/1', '26/B/2', '26/B/3', '26/C', '26/C/1', '27/1/1', '27/1/2', '27/1/3', '27/2', '27/4', '27/5', '27/5/1', '27/5/2', '27/5/3', '27/5/4', '28/B/1', '28/B/1/1', '28/B/1/2', '28/B/1/3', '28/B/1/4', '28/B/2', '28/B/3', '28/B/4', '29', '30/1', '30/1/1', '30/2', '30/3', '30/4', '30/A', '31/1/1/అ', '31/1/1/ఆ', '31/1/1/ఇ', '31/1/2', '31/2', '31/3', '31/4', '31/5', '32/1', '32/1/1', '32/1/2', '32/1/3', '32/2', '32/3', '33/1/1', '33/1/2/1', '33/1/2/2', '33/1/2/3', '33/1/3', '33/1/4', '33/2', '34/A', '34/B', '34/C', '34/D', '34/E', '34/F', '34/G', '34/H', '34/I', '34/J', '35', '36/1', '36/2', '36/3', '37/1', '37/2', '38/1', '38/2', '38/2/1', '38/3', '39/1/1', '39/1/2', '39/1/3', '39/2', '40/1', '40/2', '40/2/1', '41/A/1', '41/A/అ', '41/A/ఆ', '41/A/ఇ', '41/A/ఈ', '42/2', '42/A', '43/1', '43/10', '43/11', '43/12', '43/13', '43/2', '43/3', '43/4', '43/5', '43/6', '43/7', '43/8', '43/9', '44/A', '44/B', '44/C', '44/D', '44/E', '44/F', '44/G', '44/H', '45/1', '45/2/1', '45/2/2', '45/3', '45/3/1', '45/3/2', '45/4', '45/4/1', '46/1', '46/2', '47/2/1', '47/2/2', '47/2/3', '47/4', '48/1/1', '48/1/2', '48/1/3', '49/1/1', '49/1/12', '49/1/3', '49/2', '49/3', '49/4', '49/5', '49/6', '49/7', '49/7/1', '50/1/1', '50/1/2', '50/2/1', '50/2/1/1', '50/2/1/2', '50/2/1/3', '50/2/1/4', '50/2/2', '50/3', '50/3/1', '50/3/2', '50/3/3', '50/3/4', '50/4', '50/5', '50/6']}]\n"
     ]
    }
   ],
   "source": [
    "survey_number_list = []\n",
    "try:\n",
    "    dropdown_district = Select(select_elements[0])\n",
    "\n",
    "    time.sleep(2)\n",
    "\n",
    "    for index_district, desired_district in enumerate(dropdown_district.options):\n",
    "        if desired_district.text == 'Please Select':\n",
    "            continue\n",
    "\n",
    "        else:\n",
    "            survey_dict = {}\n",
    "\n",
    "            dropdown_district.select_by_index(index_district)\n",
    "            \n",
    "            dropdown_mandal = Select(select_elements[1])\n",
    "\n",
    "            time.sleep(2)\n",
    "\n",
    "            for index_mandal, desired_mandal in enumerate(dropdown_mandal.options):\n",
    "                if desired_mandal.text == 'Please Select':\n",
    "                    continue\n",
    "\n",
    "                else:\n",
    "                    dropdown_mandal.select_by_index(index_mandal)\n",
    "                \n",
    "                    dropdown_village = Select(select_elements[2])\n",
    "\n",
    "                    time.sleep(2)\n",
    "\n",
    "                    for index_village, desired_village in enumerate(dropdown_village.options):\n",
    "                        if desired_village.text == 'Please Select':\n",
    "                            continue\n",
    "\n",
    "                        else:\n",
    "                            dropdown_village.select_by_index(index_village)\n",
    "                    \n",
    "                            dropdown_survey_no = Select(select_elements[3])\n",
    "\n",
    "                            time.sleep(2)\n",
    "\n",
    "                            survey_no = []\n",
    "\n",
    "                            for option in tqdm(dropdown_survey_no.options):\n",
    "                                if option.text != 'Please select':\n",
    "                                    survey_no.append(option.text)\n",
    "\n",
    "                            survey_dict['district'] = desired_district.text\n",
    "                            survey_dict['mandal'] = desired_mandal.text\n",
    "                            survey_dict['vilage'] = desired_village.text\n",
    "                            survey_dict['survey_numbers'] = survey_no\n",
    "\n",
    "                            survey_number_list.append(survey_dict)\n",
    "\n",
    "                            time.sleep(2)\n",
    "\n",
    "                            break\n",
    "                \n",
    "                    break\n",
    "\n",
    "            break\n",
    "    \n",
    "    print(survey_number_list)\n",
    "\n",
    "except Exception as e:\n",
    "        print(\"An error occurred:\", e)"
   ]
  },
  {
   "cell_type": "code",
   "execution_count": 62,
   "metadata": {},
   "outputs": [],
   "source": [
    "driver.quit()"
   ]
  }
 ],
 "metadata": {
  "kernelspec": {
   "display_name": "Python 3",
   "language": "python",
   "name": "python3"
  },
  "language_info": {
   "codemirror_mode": {
    "name": "ipython",
    "version": 3
   },
   "file_extension": ".py",
   "mimetype": "text/x-python",
   "name": "python",
   "nbconvert_exporter": "python",
   "pygments_lexer": "ipython3",
   "version": "3.11.2"
  },
  "orig_nbformat": 4
 },
 "nbformat": 4,
 "nbformat_minor": 2
}
